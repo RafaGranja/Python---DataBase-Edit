{
 "cells": [
  {
   "cell_type": "code",
   "execution_count": 45,
   "metadata": {},
   "outputs": [],
   "source": [
    "import pandas as pd\n",
    "import numpy as np\n",
    "\n",
    "tabela = pd.read_excel(\"BD.xlsx\",index_col=None,header=0)\n",
    "tabela.loc[pd.isna(tabela[\"NUMPLANOCORTE\"])==1,\"NUMPLANOCORTE\"]='NULL'\n",
    "tabela.loc[pd.isna(tabela[\"QUANTIDADE_EFETIVADA\"])==1,\"QUANTIDADE_EFETIVADA\"]=0\n",
    "tabela.loc[pd.isna(tabela[\"QUANTIDADE_PREVISTA\"])==1,\"QUANTIDADE_PREVISTA\"]=0\n",
    "tabela[\"DIFERENCA\"]=tabela[\"QUANTIDADE_PREVISTA\"]-tabela[\"QUANTIDADE_EFETIVADA\"]\n",
    "header = tabela.columns\n",
    "i=0\n",
    "grupos = []\n",
    "for i in range(len(tabela[\"CODIGOPRD\"])):\n",
    "    grupos.append(tabela.loc[i,\"CODIGOPRD\"][:6])\n",
    "grupos=list(set(grupos))\n",
    "#display(grupos)\n",
    "\n",
    "        "
   ]
  },
  {
   "cell_type": "code",
   "execution_count": 46,
   "metadata": {},
   "outputs": [],
   "source": [
    "for j in range (len(grupos)):\n",
    "    variavel= 'tabela' + str(grupos[j].replace('.',''))\n",
    "    vars()[variavel]=[]\n",
    "i=0\n",
    "for i in range (len(tabela[\"CODIGOPRD\"])):\n",
    "    codigo=tabela.loc[i,\"CODIGOPRD\"]\n",
    "    j=0\n",
    "    for j in range (len(grupos)):\n",
    "        if codigo[:6]==grupos[j]:\n",
    "            variavel= 'tabela' + str(grupos[j].replace('.',''))\n",
    "            vars()[variavel].append(tabela.loc[tabela.index==i])\n",
    "j=0\n",
    "writer = pd.ExcelWriter('TabelasComponentes.xlsx', engine='xlsxwriter')\n",
    "for j in range (len(grupos)):\n",
    "    variavel=vars()['tabela' + str(grupos[j].replace('.',''))]\n",
    "    variavel=np.array(variavel)\n",
    "    linhas=variavel.shape[0]\n",
    "    colunas=variavel.shape[2]\n",
    "    variavel=variavel.reshape(linhas,colunas)\n",
    "    dataframe=pd.DataFrame(variavel,columns=header)\n",
    "    dataframe.to_excel(writer,sheet_name='tabela' + str(grupos[j].replace('.','')),index=None)\n",
    "writer.save()"
   ]
  }
 ],
 "metadata": {
  "kernelspec": {
   "display_name": "Python 3.10.5 64-bit",
   "language": "python",
   "name": "python3"
  },
  "language_info": {
   "codemirror_mode": {
    "name": "ipython",
    "version": 3
   },
   "file_extension": ".py",
   "mimetype": "text/x-python",
   "name": "python",
   "nbconvert_exporter": "python",
   "pygments_lexer": "ipython3",
   "version": "3.10.5"
  },
  "orig_nbformat": 4,
  "vscode": {
   "interpreter": {
    "hash": "7998ba1452c5beddf375aa04c6b7c3c6d22dc95f1486bf6225ea05f507fafefb"
   }
  }
 },
 "nbformat": 4,
 "nbformat_minor": 2
}
